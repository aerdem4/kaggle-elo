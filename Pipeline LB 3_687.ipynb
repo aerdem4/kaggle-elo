{
 "cells": [
  {
   "cell_type": "code",
   "execution_count": 1,
   "metadata": {},
   "outputs": [],
   "source": [
    "import gc\n",
    "import warnings\n",
    "import numpy as np\n",
    "import pandas as pd\n",
    "\n",
    "#settings\n",
    "warnings.filterwarnings('ignore')\n",
    "np.random.seed(2018)\n",
    "\n",
    "\n",
    "train_df = pd.read_csv('input/train.csv')\n",
    "test_df = pd.read_csv('input/test.csv')\n",
    "historical_trans_df = pd.read_csv('input/historical_transactions.csv')\n",
    "new_merchant_trans_df = pd.read_csv('input/new_merchant_transactions.csv')\n",
    "# TODO: consider missing merchants.csv"
   ]
  },
  {
   "cell_type": "code",
   "execution_count": 2,
   "metadata": {},
   "outputs": [],
   "source": [
    "from src.util import preprocess_hist\n",
    "\n",
    "for df in [historical_trans_df, new_merchant_trans_df]:\n",
    "    preprocess_hist(df)"
   ]
  },
  {
   "cell_type": "code",
   "execution_count": 3,
   "metadata": {},
   "outputs": [],
   "source": [
    "from src.util import aggregate_transactions\n",
    "    \n",
    "historical_trans_group_df = aggregate_transactions(historical_trans_df, \"hist\")\n",
    "new_merchant_trans_group_df = aggregate_transactions(new_merchant_trans_df, \"hist_new\")"
   ]
  },
  {
   "cell_type": "code",
   "execution_count": 4,
   "metadata": {},
   "outputs": [
    {
     "data": {
      "text/plain": [
       "49"
      ]
     },
     "execution_count": 4,
     "metadata": {},
     "output_type": "execute_result"
    }
   ],
   "source": [
    "train_df = train_df.merge(historical_trans_group_df, on='card_id', how='left')\n",
    "test_df = test_df.merge(historical_trans_group_df, on='card_id', how='left')\n",
    "\n",
    "train_df = train_df.merge(new_merchant_trans_group_df, on='card_id', how='left')\n",
    "test_df = test_df.merge(new_merchant_trans_group_df, on='card_id', how='left')\n",
    "\n",
    "del historical_trans_group_df, new_merchant_trans_group_df\n",
    "gc.collect()"
   ]
  },
  {
   "cell_type": "code",
   "execution_count": 5,
   "metadata": {},
   "outputs": [
    {
     "data": {
      "text/plain": [
       "0    199710\n",
       "1      2207\n",
       "Name: outliers, dtype: int64"
      ]
     },
     "execution_count": 5,
     "metadata": {},
     "output_type": "execute_result"
    }
   ],
   "source": [
    "train_df['outliers'] = 0\n",
    "train_df.loc[train_df['target'] < -30, 'outliers'] = 1\n",
    "train_df['outliers'].value_counts()"
   ]
  },
  {
   "cell_type": "code",
   "execution_count": 6,
   "metadata": {},
   "outputs": [],
   "source": [
    "from src.util import extract_features\n",
    "\n",
    "for df in [train_df, test_df]:\n",
    "    extract_features(df)"
   ]
  },
  {
   "cell_type": "code",
   "execution_count": 7,
   "metadata": {},
   "outputs": [
    {
     "name": "stdout",
     "output_type": "stream",
     "text": [
      "fold 0\n",
      "Training until validation scores don't improve for 100 rounds.\n",
      "[200]\ttraining's rmse: 1.55902\tvalid_1's rmse: 1.5736\n",
      "[400]\ttraining's rmse: 1.53616\tvalid_1's rmse: 1.5619\n",
      "[600]\ttraining's rmse: 1.5227\tvalid_1's rmse: 1.55893\n",
      "[800]\ttraining's rmse: 1.51174\tvalid_1's rmse: 1.55772\n",
      "[1000]\ttraining's rmse: 1.50176\tvalid_1's rmse: 1.55706\n",
      "[1200]\ttraining's rmse: 1.49241\tvalid_1's rmse: 1.55667\n",
      "[1400]\ttraining's rmse: 1.48327\tvalid_1's rmse: 1.55648\n",
      "[1600]\ttraining's rmse: 1.47471\tvalid_1's rmse: 1.55644\n",
      "Early stopping, best iteration is:\n",
      "[1589]\ttraining's rmse: 1.47517\tvalid_1's rmse: 1.55639\n",
      "fold 1\n",
      "Training until validation scores don't improve for 100 rounds.\n",
      "[200]\ttraining's rmse: 1.55767\tvalid_1's rmse: 1.57753\n",
      "[400]\ttraining's rmse: 1.5347\tvalid_1's rmse: 1.56576\n",
      "[600]\ttraining's rmse: 1.52111\tvalid_1's rmse: 1.56284\n",
      "[800]\ttraining's rmse: 1.51024\tvalid_1's rmse: 1.56146\n",
      "[1000]\ttraining's rmse: 1.50027\tvalid_1's rmse: 1.56084\n",
      "[1200]\ttraining's rmse: 1.4909\tvalid_1's rmse: 1.56054\n",
      "[1400]\ttraining's rmse: 1.48179\tvalid_1's rmse: 1.56022\n",
      "[1600]\ttraining's rmse: 1.47308\tvalid_1's rmse: 1.56011\n",
      "Early stopping, best iteration is:\n",
      "[1688]\ttraining's rmse: 1.46929\tvalid_1's rmse: 1.56005\n",
      "fold 2\n",
      "Training until validation scores don't improve for 100 rounds.\n",
      "[200]\ttraining's rmse: 1.55963\tvalid_1's rmse: 1.57402\n",
      "[400]\ttraining's rmse: 1.53706\tvalid_1's rmse: 1.5604\n",
      "[600]\ttraining's rmse: 1.52379\tvalid_1's rmse: 1.55679\n",
      "[800]\ttraining's rmse: 1.51296\tvalid_1's rmse: 1.55535\n",
      "[1000]\ttraining's rmse: 1.50307\tvalid_1's rmse: 1.55464\n",
      "[1200]\ttraining's rmse: 1.49385\tvalid_1's rmse: 1.55417\n",
      "[1400]\ttraining's rmse: 1.48493\tvalid_1's rmse: 1.55368\n",
      "[1600]\ttraining's rmse: 1.47616\tvalid_1's rmse: 1.5534\n",
      "[1800]\ttraining's rmse: 1.46752\tvalid_1's rmse: 1.55328\n",
      "Early stopping, best iteration is:\n",
      "[1877]\ttraining's rmse: 1.46435\tvalid_1's rmse: 1.55326\n",
      "fold 3\n",
      "Training until validation scores don't improve for 100 rounds.\n",
      "[200]\ttraining's rmse: 1.56227\tvalid_1's rmse: 1.56245\n",
      "[400]\ttraining's rmse: 1.5391\tvalid_1's rmse: 1.55256\n",
      "[600]\ttraining's rmse: 1.52527\tvalid_1's rmse: 1.55005\n",
      "[800]\ttraining's rmse: 1.51421\tvalid_1's rmse: 1.54916\n",
      "[1000]\ttraining's rmse: 1.50432\tvalid_1's rmse: 1.54865\n",
      "[1200]\ttraining's rmse: 1.49499\tvalid_1's rmse: 1.54833\n",
      "Early stopping, best iteration is:\n",
      "[1272]\ttraining's rmse: 1.49181\tvalid_1's rmse: 1.54824\n"
     ]
    }
   ],
   "source": [
    "from src.model import train_and_predict\n",
    "\n",
    "features = [c for c in train_df.columns if c not in ['card_id', 'first_active_month','target','outliers']]\n",
    "categorical_feats = [\"feature_1\", \"feature_2\", \"feature_3\"]\n",
    "\n",
    "reg_param = {'num_leaves': 31,\n",
    "         'min_data_in_leaf': 200, \n",
    "         'objective':'regression',\n",
    "         'learning_rate': 0.015,\n",
    "         \"feature_fraction\": 0.9,\n",
    "         \"bagging_freq\": 1,\n",
    "         \"bagging_fraction\": 0.9 ,\n",
    "         \"metric\": 'rmse',\n",
    "         \"nthread\": 40,\n",
    "         \"random_state\": 0}\n",
    "\n",
    "oof_reg, test_reg, feature_importance_reg = train_and_predict(train_df, test_df, \"target\", reg_param,\n",
    "                                                              features, categorical_feats, 4)"
   ]
  },
  {
   "cell_type": "code",
   "execution_count": 8,
   "metadata": {},
   "outputs": [
    {
     "name": "stdout",
     "output_type": "stream",
     "text": [
      "fold 0\n",
      "Training until validation scores don't improve for 100 rounds.\n",
      "[200]\ttraining's auc: 0.958486\tvalid_1's auc: 0.902483\n",
      "Early stopping, best iteration is:\n",
      "[229]\ttraining's auc: 0.96427\tvalid_1's auc: 0.902842\n",
      "fold 1\n",
      "Training until validation scores don't improve for 100 rounds.\n",
      "[200]\ttraining's auc: 0.958954\tvalid_1's auc: 0.90672\n",
      "[400]\ttraining's auc: 0.982441\tvalid_1's auc: 0.908437\n",
      "Early stopping, best iteration is:\n",
      "[371]\ttraining's auc: 0.980268\tvalid_1's auc: 0.908689\n",
      "fold 2\n",
      "Training until validation scores don't improve for 100 rounds.\n",
      "[200]\ttraining's auc: 0.95723\tvalid_1's auc: 0.906202\n",
      "Early stopping, best iteration is:\n",
      "[203]\ttraining's auc: 0.957763\tvalid_1's auc: 0.906309\n",
      "fold 3\n",
      "Training until validation scores don't improve for 100 rounds.\n",
      "[200]\ttraining's auc: 0.958391\tvalid_1's auc: 0.897312\n",
      "Early stopping, best iteration is:\n",
      "[271]\ttraining's auc: 0.970794\tvalid_1's auc: 0.898642\n"
     ]
    }
   ],
   "source": [
    "bin_param = {'num_leaves': 31,\n",
    "         'min_data_in_leaf': 200, \n",
    "         'objective':'binary',\n",
    "         'learning_rate': 0.015,\n",
    "         \"feature_fraction\": 0.9,\n",
    "         \"bagging_freq\": 1,\n",
    "         \"bagging_fraction\": 0.9 ,\n",
    "         \"metric\": 'auc',\n",
    "         \"nthread\": 40,\n",
    "         \"random_state\": 0}\n",
    "\n",
    "oof_bin, test_bin, feature_importance_bin = train_and_predict(train_df, test_df, \"outliers\", bin_param, \n",
    "                                                              features, categorical_feats, 4)"
   ]
  },
  {
   "cell_type": "code",
   "execution_count": 9,
   "metadata": {},
   "outputs": [
    {
     "data": {
      "text/plain": [
       "3.803009821428519"
      ]
     },
     "execution_count": 9,
     "metadata": {},
     "output_type": "execute_result"
    }
   ],
   "source": [
    "from src.util import rmse\n",
    "\n",
    "rmse(train_df[\"target\"], oof_reg)"
   ]
  },
  {
   "cell_type": "code",
   "execution_count": 10,
   "metadata": {},
   "outputs": [
    {
     "data": {
      "text/plain": [
       "3.643377108745387"
      ]
     },
     "execution_count": 10,
     "metadata": {},
     "output_type": "execute_result"
    }
   ],
   "source": [
    "from src.meta_model import MetaModel\n",
    "\n",
    "train_df[\"reg_pred\"] = oof_reg\n",
    "train_df[\"bin_pred\"] = oof_bin\n",
    "\n",
    "mm = MetaModel()\n",
    "mm.fit(train_df)\n",
    "train_df[\"pred\"] = mm.predict(train_df)\n",
    "\n",
    "rmse(train_df[\"target\"], train_df[\"pred\"])"
   ]
  },
  {
   "cell_type": "code",
   "execution_count": 11,
   "metadata": {},
   "outputs": [],
   "source": [
    "test_df[\"reg_pred\"] = test_reg\n",
    "test_df[\"bin_pred\"] = test_bin\n",
    "\n",
    "test_df[\"target\"] = mm.predict(test_df)"
   ]
  },
  {
   "cell_type": "code",
   "execution_count": 12,
   "metadata": {},
   "outputs": [
    {
     "name": "stdout",
     "output_type": "stream",
     "text": [
      "Test target min: -20.267974097174523\n",
      "Test target max: 3.9642929981988577\n",
      "Train-test mean target diff: 0.0005006718967325297\n"
     ]
    },
    {
     "data": {
      "image/png": "[encoded data removed]",
      "text/plain": [
       "<Figure size 432x288 with 1 Axes>"
      ]
     },
     "metadata": {
      "needs_background": "light"
     },
     "output_type": "display_data"
    }
   ],
   "source": [
    "%matplotlib inline\n",
    "from src.util import sanity_check\n",
    "\n",
    "sanity_check(train_df[\"target\"], test_df[\"target\"])"
   ]
  },
  {
   "cell_type": "code",
   "execution_count": 13,
   "metadata": {},
   "outputs": [],
   "source": [
    "test_df[[\"card_id\", \"target\"]].to_csv(\"submissions/sub.csv\", index=False)"
   ]
  },
  {
   "cell_type": "code",
   "execution_count": 14,
   "metadata": {},
   "outputs": [
    {
     "name": "stdout",
     "output_type": "stream",
     "text": [
      "updating: submissions/sub.csv (deflated 52%)\n"
     ]
    }
   ],
   "source": [
    "!zip submission.zip submissions/sub.csv"
   ]
  },
  {
   "cell_type": "code",
   "execution_count": null,
   "metadata": {},
   "outputs": [],
   "source": []
  }
 ],
 "metadata": {
  "kernelspec": {
   "display_name": "Python 3",
   "language": "python",
   "name": "python3"
  },
  "language_info": {
   "codemirror_mode": {
    "name": "ipython",
    "version": 3
   },
   "file_extension": ".py",
   "mimetype": "text/x-python",
   "name": "python",
   "nbconvert_exporter": "python",
   "pygments_lexer": "ipython3",
   "version": "3.5.5"
  }
 },
 "nbformat": 4,
 "nbformat_minor": 2
}
